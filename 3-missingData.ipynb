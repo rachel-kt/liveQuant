{
 "cells": [
  {
   "cell_type": "code",
   "execution_count": 1,
   "id": "d19cc56f",
   "metadata": {},
   "outputs": [],
   "source": [
    "import os\n",
    "import math\n",
    "import napari\n",
    "import tifffile\n",
    "import numpy as np\n",
    "import pandas as pd\n",
    "import matplotlib.pyplot as plt\n",
    "from copy import deepcopy\n",
    "from skimage import io, data\n",
    "import bigfish.stack as stack\n",
    "from bigfish.multistack import match_nuc_cell\n",
    "import tkinter as tk\n",
    "from tkinter import filedialog\n",
    "\n",
    "from cellpose import models\n",
    "from cellpose.utils import remove_edge_masks\n",
    "from cellpose.io import imread, save_to_png, masks_flows_to_seg"
   ]
  },
  {
   "cell_type": "code",
   "execution_count": 2,
   "id": "8d1fd81c",
   "metadata": {},
   "outputs": [],
   "source": [
    "from cropFunctions import *"
   ]
  },
  {
   "cell_type": "code",
   "execution_count": 3,
   "id": "09384cef",
   "metadata": {},
   "outputs": [],
   "source": [
    "def groupSequence(lst):\n",
    "    res = [[lst[0]]]\n",
    " \n",
    "    for i in range(1, len(lst)):\n",
    "        if lst[i-1]+1 == lst[i]:\n",
    "            res[-1].append(lst[i])\n",
    " \n",
    "        else:\n",
    "            res.append([lst[i]])\n",
    "    return res"
   ]
  },
  {
   "cell_type": "code",
   "execution_count": 4,
   "id": "6ba70e34",
   "metadata": {},
   "outputs": [],
   "source": [
    "def creatSummary(homeFolder, nameKey, MaxTimePoint):\n",
    "    df = pd.DataFrame(columns=['Movie_Name','Total_cells', 'Incomplete', 'corrected', 'Final_number'])\n",
    "    df.to_csv(homeFolder+'/missingDataSummary.csv')\n",
    "    for i in next(os.walk(homeFolder))[1]:\n",
    "        if nameKey in i:\n",
    "            folderNames = os.listdir(os.path.join(homeFolder,i))\n",
    "            cellFolderNames = [k for k in folderNames if 'cell_' in k]\n",
    "            incomplete = 0\n",
    "            corrected = 0\n",
    "            for j in cellFolderNames:\n",
    "                framesFound = len(os.listdir(os.path.join(homeFolder, i, j)))\n",
    "                if framesFound<MaxTimePoint-missingFramesTol:\n",
    "                    incomplete+=1\n",
    "                elif framesFound >= MaxTimePoint-missingFramesTol and framesFound!=MaxTimePoint:\n",
    "                    corrected+=1\n",
    "            df2 = pd.DataFrame(np.array([i, len(cellFolderNames), incomplete, corrected,  len(cellFolderNames)-incomplete]).reshape(1,5), columns=['Movie_Name','Total_cells', 'Incomplete', 'corrected', 'Final_number'])\n",
    "            df = pd.concat([df,df2])\n",
    "            df = df.sort_values(by=['Movie_Name'])\n",
    "    df.to_csv(homeFolder+'/missingDataSummary.csv')    "
   ]
  },
  {
   "cell_type": "code",
   "execution_count": 5,
   "id": "fbb13630",
   "metadata": {},
   "outputs": [],
   "source": [
    "def choose_home_folder():\n",
    "    root = tk.Tk()\n",
    "    root.withdraw()  # Hide the main window\n",
    "\n",
    "    file_path = filedialog.askdirectory(initialdir= \"/\", title='Please select a directory')  # Open file dialog\n",
    "\n",
    "    root.destroy()  # Close the tkinter window\n",
    "    return file_path\n",
    "\n",
    "def get_session_name():\n",
    "    root = tk.Tk()\n",
    "    root.withdraw()  # Hide the main window\n",
    "\n",
    "    file_path = filedialog.askopenfile(initialdir= \"/\", title='Please select movie file')  # Open file dialog\n",
    "\n",
    "    root.destroy()  # Close the tkinter window\n",
    "    return file_path\n",
    "\n",
    "def get_model():\n",
    "    root = tk.Tk()\n",
    "    root.withdraw()  # Hide the main window\n",
    "\n",
    "    file_path = filedialog.askopenfilename(initialdir= \"/\", title='Please select a movie')  # Open file dialog\n",
    "\n",
    "    root.destroy()  # Close the tkinter window\n",
    "    return file_path"
   ]
  },
  {
   "cell_type": "code",
   "execution_count": 6,
   "id": "369b9554",
   "metadata": {},
   "outputs": [],
   "source": [
    "homeFolder = choose_home_folder()\n",
    "if np.size(list(homeFolder))!=0:\n",
    "    sessionNames = [i for i in os.listdir(homeFolder) if '_F' in i and os.path.isdir(os.path.join(homeFolder,i))]\n",
    "sessionNames.sort()\n"
   ]
  },
  {
   "cell_type": "code",
   "execution_count": 7,
   "id": "18622ad9",
   "metadata": {},
   "outputs": [
    {
     "data": {
      "text/plain": [
       "['Hela_h9_h2_k11_mcpsg_1hrbasal_14hr_TNF_TSA_exp2_2_F06']"
      ]
     },
     "execution_count": 7,
     "metadata": {},
     "output_type": "execute_result"
    }
   ],
   "source": [
    "sessionNames"
   ]
  },
  {
   "cell_type": "code",
   "execution_count": 8,
   "id": "d8968943",
   "metadata": {},
   "outputs": [],
   "source": [
    "dfCorrected = pd.DataFrame(columns=['imsq', 'cell_number', 'frames'])"
   ]
  },
  {
   "cell_type": "code",
   "execution_count": 9,
   "id": "68c9d280",
   "metadata": {},
   "outputs": [],
   "source": [
    "identifier = 'cell_'\n",
    "fidentifier = '_F'"
   ]
  },
  {
   "cell_type": "code",
   "execution_count": 10,
   "id": "b8bc7d7d",
   "metadata": {},
   "outputs": [],
   "source": [
    "if os.path.isfile(homeFolder+'/missingDataSummary.csv'):\n",
    "    print('Check if summary already exist!! File will be overwritten!! This step has probably already been performed!!!')\n",
    "    input('Do you still want to proceed?? y/n')"
   ]
  },
  {
   "cell_type": "code",
   "execution_count": 11,
   "id": "6cb5aa33",
   "metadata": {},
   "outputs": [],
   "source": [
    "nameKey = sessionNames[0].split(fidentifier)[0]\n",
    "MaxTimePoint = len([i for i in os.listdir(os.path.join(homeFolder,sessionNames[0])) if identifier not in i and 'background' not in i and 'intensities' not in i and 'LabelDF' not in i])\n",
    "missingFramesTol = int(np.round(0.02*MaxTimePoint))\n",
    "MaxTimePoint=899"
   ]
  },
  {
   "cell_type": "code",
   "execution_count": 12,
   "id": "01dd9890",
   "metadata": {},
   "outputs": [
    {
     "name": "stdout",
     "output_type": "stream",
     "text": [
      "file not found\n",
      "Summary will be created\n"
     ]
    }
   ],
   "source": [
    "if not os.path.isfile(homeFolder+'/missingDataSummary.csv'):\n",
    "    print('file not found\\nSummary will be created')\n",
    "    creatSummary(homeFolder, nameKey, MaxTimePoint)\n",
    "creatSummary(homeFolder, nameKey, MaxTimePoint)"
   ]
  },
  {
   "cell_type": "code",
   "execution_count": 13,
   "id": "44b1100c",
   "metadata": {},
   "outputs": [
    {
     "data": {
      "text/plain": [
       "899"
      ]
     },
     "execution_count": 13,
     "metadata": {},
     "output_type": "execute_result"
    }
   ],
   "source": [
    "MaxTimePoint"
   ]
  },
  {
   "cell_type": "code",
   "execution_count": 14,
   "id": "c0d240bb",
   "metadata": {
    "scrolled": true
   },
   "outputs": [
    {
     "name": "stdout",
     "output_type": "stream",
     "text": [
      "Hela_h9_h2_k11_mcpsg_1hrbasal_14hr_TNF_TSA_exp2_2_F06\n",
      "Frames Threshold : 881\n",
      "C:/Users/uid-1204/Desktop/test2_bigFISHLIVE\\tProjections\\T_MAX_Hela_h9_h2_k11_mcpsg_1hrbasal_14hr_TNF_TSA_exp2_2_F06_cp_masks.png\n",
      "['10', '11', '18', '5']\n",
      "imsQ 06\n",
      "Total cells =  18\n",
      "incomplete cells =  3\n",
      "corrected cells =  4\n",
      "Checking cell number  10\n",
      "['894', '841', '895', '826', '893']\n",
      "[826, 841, 893, 894, 895]\n",
      "cell number 10\n",
      "total frames corrected =  5\n",
      "ones  [826, 841]\n",
      "middle  [[893, 894, 895]]\n",
      "[893, 894, 895]\n",
      "893\n",
      "894\n",
      "895\n",
      "Last  []\n",
      "imsQ 06\n",
      "Total cells =  18\n",
      "incomplete cells =  3\n",
      "corrected cells =  3\n",
      "Checking cell number  11\n",
      "['827', '821', '825', '835', '832', '828', '856', '853', '830', '833', '829']\n",
      "[821, 825, 827, 828, 829, 830, 832, 833, 835, 853, 856]\n",
      "cell number 11\n",
      "total frames corrected =  11\n",
      "ones  [821, 825, 835, 853, 856]\n",
      "middle  [[827, 828, 829, 830], [832, 833]]\n",
      "[827, 828, 829, 830]\n",
      "827\n",
      "828\n",
      "829\n",
      "830\n",
      "[832, 833]\n",
      "832\n",
      "833\n",
      "Last  []\n",
      "imsQ 06\n",
      "Total cells =  18\n",
      "incomplete cells =  3\n",
      "corrected cells =  2\n",
      "Checking cell number  18\n",
      "['060', '062', '061']\n",
      "[60, 61, 62]\n",
      "cell number 18\n",
      "total frames corrected =  3\n",
      "ones  []\n",
      "middle  [[60, 61, 62]]\n",
      "[60, 61, 62]\n",
      "skipping  856\n",
      "Last  []\n",
      "imsQ 06\n",
      "Total cells =  18\n",
      "incomplete cells =  3\n",
      "corrected cells =  1\n",
      "Checking cell number  5\n",
      "['014', '066']\n",
      "[14, 66]\n",
      "cell number 5\n",
      "total frames corrected =  2\n",
      "ones  [14, 66]\n",
      "middle  []\n",
      "Last  []\n"
     ]
    },
    {
     "data": {
      "image/png": "[encoded data removed]",
      "text/plain": [
       "<Figure size 640x480 with 1 Axes>"
      ]
     },
     "metadata": {},
     "output_type": "display_data"
    }
   ],
   "source": [
    "for sessionName in sessionNames:\n",
    "    print(sessionName)\n",
    "    skipped=[]\n",
    "    imsQ = sessionName.split(fidentifier)[-1]\n",
    "    nameKey = sessionName.split(fidentifier)[0]+fidentifier+imsQ\n",
    "    imageName = nameKey\n",
    "    pathToTimeFrames = os.path.join(homeFolder,sessionName,'*.tif')\n",
    "    movieFolder = os.path.join(homeFolder,nameKey)\n",
    "\n",
    "\n",
    "    extensionF = '.tif'\n",
    "    print('Frames Threshold :',MaxTimePoint-missingFramesTol)\n",
    "\n",
    "    maskFolder = os.path.join(homeFolder,'tProjections')\n",
    "    maskpath = os.path.join(maskFolder,'T_MAX_'+imageName.replace('.','_')+'_cp_masks.png')\n",
    "    print(maskpath)\n",
    "    maskImageAll = imread(maskpath)\n",
    "    plt.imshow(maskImageAll)\n",
    "    cellNumbersFound = []\n",
    "    for i in next(os.walk(movieFolder))[1]:\n",
    "        if \"cell_\" in i:\n",
    "            if (len(os.listdir(os.path.join(movieFolder,i))) >= MaxTimePoint-missingFramesTol) and len(os.listdir(os.path.join(movieFolder,i)))<MaxTimePoint:\n",
    "                cellNumbersFound.append(i.split('cell_')[1])\n",
    "    print(cellNumbersFound)\n",
    "\n",
    "    ## Find missing frames\n",
    "\n",
    "    while len(cellNumbersFound)!=0:\n",
    "        totalCells = len([i for i in next(os.walk(movieFolder))[1] if \"cell\" in i])\n",
    "        incompleteCells = len([i for i in next(os.walk(movieFolder))[1] if \"cell\" in i and (len(os.listdir(os.path.join(movieFolder,i))) < MaxTimePoint-missingFramesTol)])\n",
    "        correctedCells = len(cellNumbersFound)\n",
    "\n",
    "        print('imsQ', imsQ)\n",
    "        print('Total cells = ', totalCells)\n",
    "        print('incomplete cells = ', incompleteCells)\n",
    "        print('corrected cells = ', correctedCells)\n",
    "\n",
    "        if len(cellNumbersFound)!=0:\n",
    "            cellNumber = cellNumbersFound[0]\n",
    "            print('Checking cell number ', cellNumber)\n",
    "            path_input = os.path.join(homeFolder,nameKey,'cell_'+str(cellNumber))\n",
    "            nucleiStackForm = nameKey+\"_cell_\"\n",
    "            labeldf = pd.read_pickle(os.path.join(movieFolder,\"LabelDF.pkl\")) \n",
    "\n",
    "\n",
    "\n",
    "        timep = np.arange(MaxTimePoint)\n",
    "        timestr = [str(f\"{i:03}\") for i in timep]\n",
    "\n",
    "        timePointsFound = [i.split('.')[0].split('_t')[-1] for i in os.listdir(path_input)]\n",
    "        timePointsFound.sort()\n",
    "\n",
    "        missingframes = list(set(timestr)-set(timePointsFound))\n",
    "        print(missingframes)\n",
    "\n",
    "        missingframesIdxs =  [timestr.index(missingframes[i]) for i in range(len(missingframes))]\n",
    "\n",
    "        missingframesIdxs.sort()\n",
    "        print(missingframesIdxs)\n",
    "        print('cell number', cellNumber)\n",
    "        print('total frames corrected = ', len(missingframesIdxs))\n",
    "\n",
    "        grps = groupSequence(missingframesIdxs)\n",
    "        grpsOnes = [grps[i][0] for i in range(len(grps)) if len(grps[i])==1 and grps[i][-1]!=MaxTimePoint-1 and grps[i][0]!=0]\n",
    "        grpsMiddles = [grps[i] for i in range(len(grps)) if len(grps[i])>1 and grps[i][-1]!=MaxTimePoint-1 and grps[i][0]!=0]\n",
    "        grpLast = [grps[i] for i in range(len(grps)) if len(grps[i])>=1 and grps[i][-1]==MaxTimePoint-1]\n",
    "        grpFirst = [grps[i] for i in range(len(grps)) if len(grps[i])>=1 and grps[i][0]==0]\n",
    "\n",
    "        print('ones ', grpsOnes)\n",
    "        if len(grpsOnes)!=0:\n",
    "            newmissingframesIdxs = grpsOnes #[missingframesIdxs[i] for i in seqsidx]\n",
    "        #     print(newmissingframesIdxs)\n",
    "            for jj in newmissingframesIdxs:\n",
    "                tdx1 = jj-1\n",
    "                tdx2 = jj+1        \n",
    "                image1 = io.imread(os.path.join(path_input, nucleiStackForm+str(cellNumber)+'_t'+str(f\"{tdx1:03}\")+extensionF))\n",
    "                image2 = io.imread(os.path.join(path_input, nucleiStackForm+str(cellNumber)+'_t'+str(f\"{tdx2:03}\")+extensionF))\n",
    "                if image1.shape==image2.shape:\n",
    "                    newimage = np.mean([image1,image2], axis=0).astype(np.uint16)\n",
    "                    cellFileName = os.path.join(path_input, nucleiStackForm+str(cellNumber)+'_t'+str(f\"{jj:03}\")+extensionF)\n",
    "                    with tifffile.TiffWriter(cellFileName, imagej=True) as tif:\n",
    "                        tif.write(newimage)\n",
    "                else:\n",
    "                    print('skipping ', jj)\n",
    "                    if cellNumber in cellNumbersFound:\n",
    "                        cellNumbersFound.remove(cellNumber)\n",
    "                        skipped.append(cellNumber)\n",
    "                        #------------------------------------------------------------------------------# middle frames\n",
    "        print('middle ',grpsMiddles)\n",
    "        if len(grpsMiddles)!=0:\n",
    "            for missingGroupsMiddle in grpsMiddles:\n",
    "                print(missingGroupsMiddle)        \n",
    "                tdx1 = missingGroupsMiddle[0]-1\n",
    "                tdx2 = missingGroupsMiddle[-1]+1\n",
    "                image1 = io.imread(os.path.join(path_input, nucleiStackForm+str(cellNumber)+'_t'+str(f\"{tdx1:03}\")+extensionF))\n",
    "                image2 = io.imread(os.path.join(path_input, nucleiStackForm+str(cellNumber)+'_t'+str(f\"{tdx2:03}\")+extensionF))\n",
    "                if image1.shape==image2.shape:\n",
    "                    newimage = np.mean([image1,image2], axis=0).astype(np.uint16)\n",
    "                    for i in missingGroupsMiddle:\n",
    "                        print(i)\n",
    "                        cellFileName = os.path.join(path_input, nucleiStackForm+str(cellNumber)+'_t'+str(f\"{i:03}\")+extensionF)\n",
    "                        with tifffile.TiffWriter(cellFileName, imagej=True) as tif:\n",
    "                            tif.write(newimage)\n",
    "                else:\n",
    "                    print('skipping ', jj)\n",
    "                    if cellNumber in cellNumbersFound:\n",
    "                        cellNumbersFound.remove(cellNumber)\n",
    "                        skipped.append(cellNumber)\n",
    "#------------------------------------------------------------------------------# Last frames'\n",
    "        print('Last ',grpLast)\n",
    "        if len(grpLast)!=0:    \n",
    "            tdx1 = grpLast[0][0]-1\n",
    "            newimage = io.imread(os.path.join(path_input, nucleiStackForm+str(cellNumber)+'_t'+str(f\"{tdx1:03}\")+extensionF))\n",
    "            for i in missingframesIdxs:\n",
    "                cellFileName = os.path.join(path_input, nucleiStackForm+str(cellNumber)+'_t'+str(f\"{i:03}\")+extensionF)\n",
    "                with tifffile.TiffWriter(cellFileName, imagej=True) as tif:\n",
    "                    tif.write(newimage)\n",
    "                #------------------------------------------------------------------------------print('First ',grpFirst)\n",
    "        if len(grpFirst)!=0:\n",
    "            tdx1 = grpFirst[0][-1]+1\n",
    "            newimage = io.imread(os.path.join(path_input, nucleiStackForm+str(cellNumber)+'_t'+str(f\"{tdx1:03}\")+extensionF))\n",
    "            for i in grpFirst[0]:\n",
    "                cellFileName = os.path.join(path_input, nucleiStackForm+str(cellNumber)+'_t'+str(f\"{i:03}\")+extensionF)\n",
    "                with tifffile.TiffWriter(cellFileName, imagej=True) as tif:\n",
    "                    tif.write(newimage)\n",
    "                    #------------------------------------------------------------------------------\n",
    "        df2 = pd.DataFrame(np.array([imsQ, cellNumber, str(missingframes)]).reshape(1,3), columns=['imsq', 'cell_number', 'frames'])\n",
    "        dfCorrected = pd.concat([dfCorrected, df2])\n",
    "\n",
    "        cellNumbersFound = []\n",
    "        for i in next(os.walk(movieFolder))[1]:\n",
    "            if \"cell_\" in i:\n",
    "                if (len(os.listdir(os.path.join(movieFolder,i))) >= MaxTimePoint-missingFramesTol) and len(os.listdir(os.path.join(movieFolder,i)))<MaxTimePoint:\n",
    "                    cellNumbersFound.append(i.split('cell_')[1])\n",
    "        for ff in skipped:\n",
    "            if ff in cellNumbersFound:\n",
    "                cellNumbersFound.remove(ff)\n",
    "\n",
    "dfCorrected.to_csv(os.path.join(homeFolder,'missingDataAddedFrames.csv'))"
   ]
  },
  {
   "cell_type": "code",
   "execution_count": null,
   "id": "52734285",
   "metadata": {},
   "outputs": [],
   "source": []
  }
 ],
 "metadata": {
  "kernelspec": {
   "display_name": "Python 3 (ipykernel)",
   "language": "python",
   "name": "python3"
  },
  "language_info": {
   "codemirror_mode": {
    "name": "ipython",
    "version": 3
   },
   "file_extension": ".py",
   "mimetype": "text/x-python",
   "name": "python",
   "nbconvert_exporter": "python",
   "pygments_lexer": "ipython3",
   "version": "3.8.20"
  }
 },
 "nbformat": 4,
 "nbformat_minor": 5
}
