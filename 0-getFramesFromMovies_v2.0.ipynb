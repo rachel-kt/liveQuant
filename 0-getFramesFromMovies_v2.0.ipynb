{
 "cells": [
  {
   "cell_type": "code",
   "execution_count": 1,
   "id": "6cb611f6",
   "metadata": {},
   "outputs": [],
   "source": [
    "import os\n",
    "import javabridge\n",
    "import bioformats\n",
    "import tifffile\n",
    "import numpy as np\n",
    "\n",
    "import tkinter as tk\n",
    "from tkinter import filedialog\n",
    "from imaris_ims_file_reader.ims import ims\n",
    "javabridge.start_vm(class_path=bioformats.JARS)\n",
    "from aicsimageio import AICSImage\n",
    "\n",
    "import matplotlib.pyplot as plt"
   ]
  },
  {
   "cell_type": "markdown",
   "id": "da78ae49",
   "metadata": {},
   "source": [
    "# Load functions\n"
   ]
  },
  {
   "cell_type": "code",
   "execution_count": 2,
   "id": "caa2e485",
   "metadata": {},
   "outputs": [],
   "source": [
    "def choose_home_folder():\n",
    "    root = tk.Tk()\n",
    "    root.withdraw()  # Hide the main window\n",
    "\n",
    "    file_path = filedialog.askdirectory(initialdir= \"/\", title='Please select a directory')  # Open file dialog\n",
    "\n",
    "    root.destroy()  # Close the tkinter window\n",
    "    return file_path\n",
    "\n",
    "def get_session_name():\n",
    "    root = tk.Tk()\n",
    "    root.withdraw()  # Hide the main window\n",
    "\n",
    "    file_path = filedialog.askopenfilename(initialdir= \"/\", title='Please select a movie')  # Open file dialog\n",
    "\n",
    "    root.destroy()  # Close the tkinter window\n",
    "    return file_path\n",
    "\n",
    "def writeTimePoints(sessionName):\n",
    "    movieFileName = sessionName.split('.dv')[0].split('/')[-1]\n",
    "    extension = '.tif'\n",
    "    pathToSaveFrames = os.path.join(sessionName.split('.dv')[0])\n",
    "    try:\n",
    "        os.makedirs(pathToSaveFrames)\n",
    "    except FileExistsError:\n",
    "       # directory already exists\n",
    "       pass\n",
    "\n",
    "\n",
    "    for timePoint in range(0,total_frames):\n",
    "        newimage = bioformats.load_image(sessionName, c=None, z=0, t=timePoint, series=None, index=None, rescale=False, wants_max_intensity=False, channel_names=None)\n",
    "        sp = newimage.shape\n",
    "        newimage=newimage.reshape(1,sp[0],sp[1])\n",
    "\n",
    "\n",
    "        for z in range(1,zstack_number):    \n",
    "            image = bioformats.load_image(sessionName, c=None, z=z, t=timePoint, series=None, index=None, rescale=False, wants_max_intensity=False, channel_names=None)\n",
    "\n",
    "            image=image.reshape(1,sp[0],sp[1])\n",
    "\n",
    "            newimage = np.concatenate([newimage,image], axis=0).astype('uint16')\n",
    "        with tifffile.TiffWriter(os.path.join(pathToSaveFrames,movieFileName+str(f\"_t{timePoint:03}\")+extension), imagej=True) as tif:\n",
    "            tif.write(newimage)\n",
    "\n",
    "def writeTimePointsIMS(imagePath):\n",
    "    outfolder=os.path.splitext(imagePath)[0] #put the foldername of the movie not session\n",
    "    imsData = ims(imagePath)\n",
    "    try:\n",
    "        os.makedirs(outfolder)\n",
    "    except FileExistsError:\n",
    "       # directory already exists\n",
    "       pass\n",
    "\n",
    "    getFramesFromMoviesIMS(imagePath, startTime=0,stopTime=imsData.shape[0],numberOfZFrames=imsData.shape[2], getMaxProjection=False, outpath=outfolder, extension='.tif')\n",
    "\n",
    "def getFramesFromMoviesIMS(imagePath, startTime=0, stopTime=25, numberOfZFrames=13, getMaxProjection=False, outpath='./', extension='.tif'):\n",
    "    moviePathName = os.path.join('/', '/'.join(imagePath.split('/')[:-1]))\n",
    "    movieFileName = imagePath.split('/')[-1].split('.ims')[0]\n",
    "    imsData = ims(imagePath)\n",
    "    for timePoint in range(startTime,stopTime):\n",
    "        \n",
    "        tFrame = imsData[timePoint,:,:,:,:]\n",
    "        tFrameShape = tFrame.shape\n",
    "\n",
    "        tFrame = tFrame.reshape(1,1,tFrameShape[0],tFrameShape[1],tFrameShape[2]).astype('uint16')\n",
    "        pathToSaveFrames = os.path.join(outpath, movieFileName)\n",
    "        with tifffile.TiffWriter(pathToSaveFrames+str(f\"_t{timePoint:03}\")+extension, imagej=True) as tif:\n",
    "            tif.write(tFrame)\n",
    "\n",
    "        if getMaxProjection:\n",
    "            pathToSaveFrames = os.path.join(outpath, 'MAX_'+movieFileName)\n",
    "            with tifffile.TiffWriter(pathToSaveFrames+str(f\"_t{timePoint:03}\")+extension, imagej=True) as tif:\n",
    "                maxImage = np.max(tFrame, axis=2).astype('uint16')\n",
    "                tif.write(maxImage)\n",
    "                \n",
    "def writeTimePointsTIF(imagePath):\n",
    "    outfolder=os.path.splitext(imagePath)[0] #put the foldername of the movie not session\n",
    "    cells = AICSImage(sessionNames[0])\n",
    "    _,totalTimes, _, zstack, xdim, ydim =  cells.shape\n",
    "    try:\n",
    "        os.makedirs(outfolder)\n",
    "    except FileExistsError:\n",
    "       # directory already exists\n",
    "       pass\n",
    "\n",
    "    getFramesFromMoviesTIFF(imagePath, startTime=0, stopTime=totalTimes, numberOfZFrames=zstack, getMaxProjection=False, outpath=outfolder, extension='.tif')\n",
    "\n",
    "def getFramesFromMoviesTIFF(imagePath, startTime=0, stopTime=25, numberOfZFrames=13, getMaxProjection=False, outpath='./', extension='.tif'):\n",
    "    moviePathName = os.path.join('/', '/'.join(imagePath.split('/')[:-1]))\n",
    "    movieFileName = imagePath.split('/')[-1].split('.tif')[0]\n",
    "    cells = AICSImage(imagePath)\n",
    "    cellDask = cells.dask_data\n",
    "    cellDask1 = cellDask[0]\n",
    "    imsData = cellDask1[:,0,:,:,:]\n",
    "    for timePoint in range(startTime,stopTime):\n",
    "        \n",
    "        tFrame = imsData[timePoint]\n",
    "        tFrameShape = tFrame.shape\n",
    "\n",
    "        tFrame = tFrame.reshape(1,1,tFrameShape[0],tFrameShape[1],tFrameShape[2]).astype('uint16')\n",
    "        pathToSaveFrames = os.path.join(outpath, movieFileName)\n",
    "        with tifffile.TiffWriter(pathToSaveFrames+str(f\"_t{timePoint:03}\")+extension, imagej=True) as tif:\n",
    "            tif.write(tFrame)\n",
    "\n",
    "        if getMaxProjection:\n",
    "            pathToSaveFrames = os.path.join(outpath, 'MAX_'+movieFileName)\n",
    "            with tifffile.TiffWriter(pathToSaveFrames+str(f\"_t{timePoint:03}\")+extension, imagej=True) as tif:\n",
    "                maxImage = np.max(tFrame, axis=2).astype('uint16')\n",
    "                tif.write(maxImage)"
   ]
  },
  {
   "cell_type": "code",
   "execution_count": 3,
   "id": "7f586092",
   "metadata": {},
   "outputs": [
    {
     "name": "stdout",
     "output_type": "stream",
     "text": [
      "Enter the movie type: .ims\n"
     ]
    }
   ],
   "source": [
    "movieFormat = input('Enter the movie type: ')\n",
    "if movieFormat == '.dv':\n",
    "    zstack_number= int(input('Enter the number of z slices: '))\n",
    "    total_frames= int(input('Enter the number of timepoints: '))"
   ]
  },
  {
   "cell_type": "markdown",
   "id": "6c1c1911",
   "metadata": {},
   "source": [
    "# Process bulk\n"
   ]
  },
  {
   "cell_type": "code",
   "execution_count": 4,
   "id": "a039339f",
   "metadata": {},
   "outputs": [
    {
     "name": "stdout",
     "output_type": "stream",
     "text": [
      "Chosen home folder: C:/Users/uid-1204/Desktop/test2_bigFISHLIVE\n",
      "Opening readonly file: C:/Users/uid-1204/Desktop/test2_bigFISHLIVE/Hela_h9_h2_k11_mcpsg_1hrbasal_14hr_TNF_TSA_exp2_2_F06.ims \n",
      "\n",
      "Opening readonly file: C:/Users/uid-1204/Desktop/test2_bigFISHLIVE/Hela_h9_h2_k11_mcpsg_1hrbasal_14hr_TNF_TSA_exp2_2_F06.ims \n",
      "\n",
      "Closing file: C:/Users/uid-1204/Desktop/test2_bigFISHLIVE/Hela_h9_h2_k11_mcpsg_1hrbasal_14hr_TNF_TSA_exp2_2_F06.ims \n",
      "\n",
      "Closing file: C:/Users/uid-1204/Desktop/test2_bigFISHLIVE/Hela_h9_h2_k11_mcpsg_1hrbasal_14hr_TNF_TSA_exp2_2_F06.ims \n",
      "\n"
     ]
    }
   ],
   "source": [
    "homeFolder = choose_home_folder()\n",
    "print(\"Chosen home folder:\", homeFolder)\n",
    "\n",
    "sessionNames = [homeFolder+'/'+i for i in os.listdir(homeFolder) if movieFormat in i and os.path.isfile(os.path.join(homeFolder,i))]\n",
    "\n",
    "for i in range(len(sessionNames)):\n",
    "    sessionName = sessionNames[i]\n",
    "    try:    \n",
    "        if movieFormat == '.dv':\n",
    "            writeTimePoints(sessionName)\n",
    "        if movieFormat == '.ims':\n",
    "            writeTimePointsIMS(sessionName)\n",
    "        if movieFormat == '.tif':\n",
    "            writeTimePointsTIF(sessionName)\n",
    "    except KeyError or OSError:\n",
    "        pass"
   ]
  },
  {
   "cell_type": "markdown",
   "id": "fbc35a9d",
   "metadata": {},
   "source": [
    "# Process 1 movie"
   ]
  },
  {
   "cell_type": "code",
   "execution_count": 5,
   "id": "9db62761",
   "metadata": {
    "scrolled": true
   },
   "outputs": [],
   "source": [
    "sessionName = get_session_name()\n",
    "if len(list(sessionName))!=0:  \n",
    "    if movieFormat == '.dv':\n",
    "        writeTimePoints(sessionName)\n",
    "    if movieFormat == '.ims':\n",
    "        writeTimePointsIMS(sessionName)\n",
    "    if movieFormat == '.tif':\n",
    "        writeTimePointsTIF(sessionName)"
   ]
  },
  {
   "cell_type": "code",
   "execution_count": null,
   "id": "1f496eb0",
   "metadata": {},
   "outputs": [],
   "source": [
    "import session_info\n",
    "session_info.show()"
   ]
  }
 ],
 "metadata": {
  "kernelspec": {
   "display_name": "Python 3 (ipykernel)",
   "language": "python",
   "name": "python3"
  },
  "language_info": {
   "codemirror_mode": {
    "name": "ipython",
    "version": 3
   },
   "file_extension": ".py",
   "mimetype": "text/x-python",
   "name": "python",
   "nbconvert_exporter": "python",
   "pygments_lexer": "ipython3",
   "version": "3.8.20"
  },
  "widgets": {
   "application/vnd.jupyter.widget-state+json": {
    "state": {},
    "version_major": 2,
    "version_minor": 0
   }
  }
 },
 "nbformat": 4,
 "nbformat_minor": 5
}
