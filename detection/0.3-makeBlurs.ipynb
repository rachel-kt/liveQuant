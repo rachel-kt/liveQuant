{
 "cells": [
  {
   "cell_type": "markdown",
   "id": "1843a4eb",
   "metadata": {},
   "source": [
    "## Load necessary python modules"
   ]
  },
  {
   "cell_type": "code",
   "execution_count": 11,
   "id": "fd2b94ce",
   "metadata": {},
   "outputs": [],
   "source": [
    "import os\n",
    "import napari\n",
    "import tifffile\n",
    "import numpy as np\n",
    "import pandas as pd\n",
    "import trackpy as tp\n",
    "import matplotlib.pyplot as plt\n",
    "\n",
    "import bigfish\n",
    "import bigfish.plot as plot\n",
    "import bigfish.stack as stack\n",
    "import bigfish.detection as detection\n",
    "import bigfish.multistack as multistack\n",
    "\n",
    "import tkinter as tk\n",
    "from tkinter import filedialog\n",
    "\n",
    "from copy import deepcopy\n",
    "import dask.array as da\n",
    "from get3DBlurredSequence import *\n",
    "from dask.array.image import imread as imr\n",
    "from bigfish.detection.utils import get_object_radius_pixel\n",
    "from buildReferenceSpot import buildReferenceSpotFromImages\n",
    "from runBigfishDetection import getSpotAndClusters, saveSpotsNPZ\n",
    "\n",
    "pd.set_option('display.max_rows', 1500)\n",
    "\n",
    "from skimage.measure import label, regionprops\n",
    "import bigfish.segmentation as segmentation\n",
    "from skimage.segmentation import find_boundaries\n",
    "\n",
    "\n",
    "from skimage.morphology.selem import disk\n",
    "from tkinter import *\n",
    "from pathlib import Path"
   ]
  },
  {
   "cell_type": "markdown",
   "id": "ee16a5d1",
   "metadata": {},
   "source": [
    "## Define functions"
   ]
  },
  {
   "cell_type": "code",
   "execution_count": 12,
   "id": "c24db09f",
   "metadata": {},
   "outputs": [],
   "source": [
    "\n",
    "def choose_home_folder():\n",
    "    root = tk.Tk()\n",
    "    root.withdraw()  # Hide the main window\n",
    "\n",
    "    file_path = filedialog.askdirectory(initialdir= \"/\", title='Please select a directory')  # Open file dialog\n",
    "\n",
    "    root.destroy()  # Close the tkinter window\n",
    "    return file_path\n",
    "\n",
    "\n",
    "def findFitstTxFrame(blurClusters):\n",
    "    for i in range(len(blurClusters)):  \n",
    "        if blurClusters[i].size!=0:\n",
    "            return i\n",
    "\n",
    "def findSpotBrightness2D(spotList, blurImage):\n",
    "    meanBrightness = []\n",
    "    for hh in range(len(spotList)):\n",
    "#         z = spotList[hh,0]\n",
    "        y = spotList[hh,0]\n",
    "        x = spotList[hh,1]\n",
    "        meanBrightness.append(np.sum(np.array(blurImage[y-3:y+4,x-3:x+4])))\n",
    "    return meanBrightness\n",
    "\n",
    "from scipy.optimize import curve_fit\n",
    "\n",
    "def bi_exp(x, a, b, c, d):\n",
    "    return (a * np.exp(-b * x)) + (c * np.exp(-d * x))\n",
    "\n",
    "def trip_exp(x, a, b, c, d, e, f):\n",
    "    return ((a * np.exp(-b * x)) + (c * np.exp(-d * x)) + (e * np.exp(-f * x)))\n",
    "\n",
    "def getBleachCorrected(stackCell, model='bi'):\n",
    "    axes = tuple([i for i in range(len(stackCell.shape))])\n",
    "    I_mean = np.mean(stackCell, axis=axes[1:])\n",
    "    timePoints = np.arange(stackCell.shape[0])\n",
    "    \n",
    "    if model=='bi':\n",
    "        coeffsExp, _ = curve_fit(bi_exp, timePoints, I_mean, maxfev=50000)\n",
    "        f_ = np.vectorize(bi_exp)(timePoints, *coeffsExp)\n",
    "    elif model=='tri':\n",
    "        coeffsExp, _ = curve_fit(trip_exp, timePoints, I_mean, maxfev=50000)\n",
    "        f_ = np.vectorize(trip_exp)(timePoints, *coeffsExp)\n",
    "    \n",
    "    \n",
    "    f = f_ / np.max(f_)\n",
    "    f = f.reshape(-1, 1, 1, 1)\n",
    "    imagesCorrected = (stackCell / f).astype(np.uint16)\n",
    "\n",
    "    # calculate r squared\n",
    "    residuals = I_mean - f_\n",
    "    ss_res = np.sum(residuals ** 2)\n",
    "    ss_tot = np.sum((I_mean - np.mean(I_mean)) ** 2)\n",
    "    r_squared = 1 - (ss_res / ss_tot)\n",
    "    r_squared_exp = np.array(r_squared)\n",
    "    return imagesCorrected, r_squared_exp, I_mean"
   ]
  },
  {
   "cell_type": "code",
   "execution_count": 13,
   "id": "d8da4bec",
   "metadata": {},
   "outputs": [],
   "source": [
    "\n",
    "midentifier = 'cell_'\n",
    "identifier = 'basal'"
   ]
  },
  {
   "cell_type": "markdown",
   "id": "927398a4",
   "metadata": {},
   "source": [
    "## Obtain 3D blurred image sequence"
   ]
  },
  {
   "cell_type": "code",
   "execution_count": 14,
   "id": "1d9d0471",
   "metadata": {},
   "outputs": [
    {
     "name": "stdout",
     "output_type": "stream",
     "text": [
      "Chosen home folder: C:/Users/uid-1204/Desktop/test2_bigFISHLIVE\n"
     ]
    }
   ],
   "source": [
    "baseFolder0 = choose_home_folder()\n",
    "print(\"Chosen home folder:\", baseFolder0) # folder containg folder of movies\n",
    "baseFolders = [os.path.join(baseFolder0,i) for i in os.listdir(baseFolder0) if identifier in i and os.path.isdir(os.path.join(baseFolder0,i))]"
   ]
  },
  {
   "cell_type": "code",
   "execution_count": 15,
   "id": "6768bfd4",
   "metadata": {},
   "outputs": [
    {
     "data": {
      "text/plain": [
       "['C:/Users/uid-1204/Desktop/test2_bigFISHLIVE\\\\Hela_h9_h2_k11_mcpsg_1hrbasal_14hr_TNF_TSA_exp2_2_F06']"
      ]
     },
     "execution_count": 15,
     "metadata": {},
     "output_type": "execute_result"
    }
   ],
   "source": [
    "baseFolders.sort()\n",
    "baseFolders"
   ]
  },
  {
   "cell_type": "code",
   "execution_count": 16,
   "id": "4d20406b",
   "metadata": {
    "scrolled": true
   },
   "outputs": [
    {
     "name": "stdout",
     "output_type": "stream",
     "text": [
      "Blur folder created\n",
      "C:/Users/uid-1204/Desktop/test2_bigFISHLIVE\\Hela_h9_h2_k11_mcpsg_1hrbasal_14hr_TNF_TSA_exp2_2_F06\\cell_1\n",
      "cell_1\n",
      "C:/Users/uid-1204/Desktop/test2_bigFISHLIVE\\Hela_h9_h2_k11_mcpsg_1hrbasal_14hr_TNF_TSA_exp2_2_F06\\cell_10\n",
      "cell_10\n",
      "C:/Users/uid-1204/Desktop/test2_bigFISHLIVE\\Hela_h9_h2_k11_mcpsg_1hrbasal_14hr_TNF_TSA_exp2_2_F06\\cell_11\n",
      "cell_11\n",
      "C:/Users/uid-1204/Desktop/test2_bigFISHLIVE\\Hela_h9_h2_k11_mcpsg_1hrbasal_14hr_TNF_TSA_exp2_2_F06\\cell_12\n",
      "cell_12\n",
      "C:/Users/uid-1204/Desktop/test2_bigFISHLIVE\\Hela_h9_h2_k11_mcpsg_1hrbasal_14hr_TNF_TSA_exp2_2_F06\\cell_13\n",
      "cell_13\n",
      "C:/Users/uid-1204/Desktop/test2_bigFISHLIVE\\Hela_h9_h2_k11_mcpsg_1hrbasal_14hr_TNF_TSA_exp2_2_F06\\cell_14\n",
      "cell_14\n",
      "C:/Users/uid-1204/Desktop/test2_bigFISHLIVE\\Hela_h9_h2_k11_mcpsg_1hrbasal_14hr_TNF_TSA_exp2_2_F06\\cell_15\n",
      "cell_15\n",
      "C:/Users/uid-1204/Desktop/test2_bigFISHLIVE\\Hela_h9_h2_k11_mcpsg_1hrbasal_14hr_TNF_TSA_exp2_2_F06\\cell_16\n",
      "cell_16\n",
      "C:/Users/uid-1204/Desktop/test2_bigFISHLIVE\\Hela_h9_h2_k11_mcpsg_1hrbasal_14hr_TNF_TSA_exp2_2_F06\\cell_17\n",
      "cell_17\n"
     ]
    },
    {
     "name": "stderr",
     "output_type": "stream",
     "text": [
      "C:\\Users\\uid-1204\\AppData\\Local\\anaconda3\\envs\\bigfishLive\\lib\\site-packages\\numpy\\core\\_methods.py:164: VisibleDeprecationWarning: Creating an ndarray from ragged nested sequences (which is a list-or-tuple of lists-or-tuples-or ndarrays with different lengths or shapes) is deprecated. If you meant to do this, you must specify 'dtype=object' when creating the ndarray.\n",
      "  arr = asanyarray(a)\n"
     ]
    },
    {
     "name": "stdout",
     "output_type": "stream",
     "text": [
      "C:/Users/uid-1204/Desktop/test2_bigFISHLIVE\\Hela_h9_h2_k11_mcpsg_1hrbasal_14hr_TNF_TSA_exp2_2_F06\\cell_18\n",
      "cell_18\n"
     ]
    },
    {
     "name": "stderr",
     "output_type": "stream",
     "text": [
      "C:\\Users\\uid-1204\\AppData\\Local\\anaconda3\\envs\\bigfishLive\\lib\\site-packages\\numpy\\core\\_methods.py:164: VisibleDeprecationWarning: Creating an ndarray from ragged nested sequences (which is a list-or-tuple of lists-or-tuples-or ndarrays with different lengths or shapes) is deprecated. If you meant to do this, you must specify 'dtype=object' when creating the ndarray.\n",
      "  arr = asanyarray(a)\n"
     ]
    },
    {
     "name": "stdout",
     "output_type": "stream",
     "text": [
      "C:/Users/uid-1204/Desktop/test2_bigFISHLIVE\\Hela_h9_h2_k11_mcpsg_1hrbasal_14hr_TNF_TSA_exp2_2_F06\\cell_2\n",
      "cell_2\n",
      "C:/Users/uid-1204/Desktop/test2_bigFISHLIVE\\Hela_h9_h2_k11_mcpsg_1hrbasal_14hr_TNF_TSA_exp2_2_F06\\cell_3\n",
      "cell_3\n",
      "C:/Users/uid-1204/Desktop/test2_bigFISHLIVE\\Hela_h9_h2_k11_mcpsg_1hrbasal_14hr_TNF_TSA_exp2_2_F06\\cell_4\n",
      "cell_4\n",
      "C:/Users/uid-1204/Desktop/test2_bigFISHLIVE\\Hela_h9_h2_k11_mcpsg_1hrbasal_14hr_TNF_TSA_exp2_2_F06\\cell_5\n",
      "cell_5\n",
      "C:/Users/uid-1204/Desktop/test2_bigFISHLIVE\\Hela_h9_h2_k11_mcpsg_1hrbasal_14hr_TNF_TSA_exp2_2_F06\\cell_6\n",
      "cell_6\n",
      "C:/Users/uid-1204/Desktop/test2_bigFISHLIVE\\Hela_h9_h2_k11_mcpsg_1hrbasal_14hr_TNF_TSA_exp2_2_F06\\cell_7\n",
      "cell_7\n",
      "C:/Users/uid-1204/Desktop/test2_bigFISHLIVE\\Hela_h9_h2_k11_mcpsg_1hrbasal_14hr_TNF_TSA_exp2_2_F06\\cell_8\n",
      "cell_8\n",
      "C:/Users/uid-1204/Desktop/test2_bigFISHLIVE\\Hela_h9_h2_k11_mcpsg_1hrbasal_14hr_TNF_TSA_exp2_2_F06\\cell_9\n",
      "cell_9\n"
     ]
    }
   ],
   "source": [
    "for baseFolder in baseFolders[:]:\n",
    "    sessionNames = [os.path.join(baseFolder, i) for i in os.listdir(baseFolder) if midentifier in i and os.path.isdir(os.path.join(baseFolder,i))]\n",
    "    try:\n",
    "        os.makedirs(os.path.join(baseFolder,'blurs'))\n",
    "        print('Blur folder created')\n",
    "    except FileExistsError:\n",
    "       # directory already exists\n",
    "       pass\n",
    "\n",
    "    for sessionName in sessionNames[:]:\n",
    "        print(sessionName)\n",
    "        imsQ = str(Path(sessionName).name).split('_F')[-1]\n",
    "        print(imsQ)\n",
    "        pathToTimeSequenceFullView = os.path.join(sessionName,'*.tif')\n",
    "\n",
    "        sequenceCell = imr(pathToTimeSequenceFullView)\n",
    "        mipSequenceCell = np.max(sequenceCell, axis=1)\n",
    "        blurWindow = 3\n",
    "        try:\n",
    "            blurImage = get3DBlurredSequence(sequenceCell, blurWindow)\n",
    "            blurReshaped = np.asarray(blurImage)\n",
    "            finalImage = da.from_array(blurReshaped, chunks=blurReshaped.shape)\n",
    "            pathToSaveFrames = baseFolder+'/blurs/blur_'+imsQ\n",
    "            extension = '.tif'\n",
    "            with tifffile.TiffWriter(pathToSaveFrames+extension, imagej=True) as tif:\n",
    "                tif.write(finalImage)\n",
    "        except ValueError:\n",
    "            pass"
   ]
  },
  {
   "cell_type": "code",
   "execution_count": null,
   "id": "514dfc18",
   "metadata": {},
   "outputs": [],
   "source": []
  },
  {
   "cell_type": "code",
   "execution_count": null,
   "id": "32513b37",
   "metadata": {},
   "outputs": [],
   "source": []
  }
 ],
 "metadata": {
  "kernelspec": {
   "display_name": "Python 3 (ipykernel)",
   "language": "python",
   "name": "python3"
  },
  "language_info": {
   "codemirror_mode": {
    "name": "ipython",
    "version": 3
   },
   "file_extension": ".py",
   "mimetype": "text/x-python",
   "name": "python",
   "nbconvert_exporter": "python",
   "pygments_lexer": "ipython3",
   "version": "3.8.20"
  },
  "widgets": {
   "application/vnd.jupyter.widget-state+json": {
    "state": {},
    "version_major": 2,
    "version_minor": 0
   }
  }
 },
 "nbformat": 4,
 "nbformat_minor": 5
}
