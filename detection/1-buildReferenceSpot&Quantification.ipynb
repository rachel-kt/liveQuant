{
 "cells": [
  {
   "cell_type": "markdown",
   "id": "c0cc3753",
   "metadata": {},
   "source": [
    "## Import necessary python modules"
   ]
  },
  {
   "cell_type": "code",
   "execution_count": 13,
   "id": "9d089cf9",
   "metadata": {},
   "outputs": [],
   "source": [
    "import os\n",
    "import napari\n",
    "import tifffile\n",
    "import numpy as np\n",
    "import pandas as pd\n",
    "import matplotlib.pyplot as plt\n",
    "import tkinter as tk\n",
    "from tkinter import filedialog\n",
    "import bigfish\n",
    "import bigfish.plot as plot\n",
    "import bigfish.stack as stack\n",
    "import bigfish.detection as detection\n",
    "import bigfish.multistack as multistack\n",
    "from pathlib import Path\n",
    "from copy import deepcopy\n",
    "from dask.array.image import imread as imr\n",
    "from bigfish.detection.utils import get_object_radius_pixel\n",
    "from buildReferenceSpot import buildReferenceSpotFromImages\n",
    "from runBigfishDetection import getSpotAndClusters, saveSpotsNPZ, reorderZstack"
   ]
  },
  {
   "cell_type": "code",
   "execution_count": 14,
   "id": "f6dab227",
   "metadata": {},
   "outputs": [],
   "source": [
    "from cellpose import models\n",
    "from cellpose.utils import remove_edge_masks\n",
    "from cellpose.io import imread, save_to_png, masks_flows_to_seg\n",
    "# import liveQuant\n",
    "from pathlib import Path"
   ]
  },
  {
   "cell_type": "code",
   "execution_count": null,
   "id": "97889ea7",
   "metadata": {},
   "outputs": [],
   "source": []
  },
  {
   "cell_type": "markdown",
   "id": "a6823fdb",
   "metadata": {},
   "source": [
    "## Specify voxel and object size"
   ]
  },
  {
   "cell_type": "code",
   "execution_count": 15,
   "id": "92e6c86b",
   "metadata": {},
   "outputs": [],
   "source": [
    "voxelRadius = (600, 121, 121)\n",
    "objectRadius = (600, 150, 150)"
   ]
  },
  {
   "cell_type": "code",
   "execution_count": 16,
   "id": "940ded1a",
   "metadata": {},
   "outputs": [],
   "source": [
    "from scipy.optimize import curve_fit\n",
    "\n",
    "def bi_exp(x, a, b, c, d):\n",
    "    return (a * np.exp(-b * x)) + (c * np.exp(-d * x))\n",
    "\n",
    "def trip_exp(x, a, b, c, d, e, f):\n",
    "    return ((a * np.exp(-b * x)) + (c * np.exp(-d * x)) + (e * np.exp(-f * x)))\n",
    "\n",
    "def getBleachCorrected(stackCell, model='bi'):\n",
    "    axes = tuple([i for i in range(len(stackCell.shape))])\n",
    "    I_mean = np.mean(stackCell, axis=axes[1:])\n",
    "    timePoints = np.arange(stackCell.shape[0])\n",
    "    \n",
    "    if model=='bi':\n",
    "        coeffsExp, _ = curve_fit(bi_exp, timePoints, I_mean, maxfev=50000)\n",
    "        f_ = np.vectorize(bi_exp)(timePoints, *coeffsExp)\n",
    "    elif model=='tri':\n",
    "        coeffsExp, _ = curve_fit(trip_exp, timePoints, I_mean, maxfev=50000)\n",
    "        f_ = np.vectorize(trip_exp)(timePoints, *coeffsExp)\n",
    "    \n",
    "    \n",
    "    f = f_ / np.max(f_)\n",
    "    f = f.reshape(-1, 1, 1, 1)\n",
    "    imagesCorrected = (stackCell / f).astype(np.uint16)\n",
    "\n",
    "    # calculate r squared\n",
    "    residuals = I_mean - f_\n",
    "    ss_res = np.sum(residuals ** 2)\n",
    "    ss_tot = np.sum((I_mean - np.mean(I_mean)) ** 2)\n",
    "    r_squared = 1 - (ss_res / ss_tot)\n",
    "    r_squared_exp = np.array(r_squared)\n",
    "    return imagesCorrected, r_squared_exp, I_mean"
   ]
  },
  {
   "cell_type": "code",
   "execution_count": 17,
   "id": "da8b11f2",
   "metadata": {},
   "outputs": [],
   "source": [
    "def getImagesAndSpotList(sequenceCell, selectedThreshold, voxelRadius, objectRadius, sampling=10):\n",
    "    images=[]    \n",
    "    spots_list=[]\n",
    "    MaxTimePoint = sequenceCell.shape[0]\n",
    "\n",
    "    spot_radius_px = detection.get_object_radius_pixel(\n",
    "        voxel_size_nm=voxelRadius, \n",
    "        object_radius_nm=objectRadius, \n",
    "        ndim=3)\n",
    "\n",
    "    for t in range(1,MaxTimePoint,sampling):\n",
    "        rna = np.array(sequenceCell[t])\n",
    "        images.append(rna)\n",
    "\n",
    "        # LoG filter\n",
    "        rna_log = stack.log_filter(rna, sigma=spot_radius_px)\n",
    "\n",
    "        # local maximum detection\n",
    "        mask = detection.local_maximum_detection(rna_log, min_distance=spot_radius_px)\n",
    "\n",
    "        # thresholding\n",
    "        threshold = detection.automated_threshold_setting(rna_log, mask)\n",
    "        spots_, _ = detection.spots_thresholding(rna_log, mask, float(selectedThreshold))\n",
    "        spots_list.append(spots_)\n",
    "    n=len(images)\n",
    "    print(\"Total number of images : \"+str(n))\n",
    "    return images, spots_list, n"
   ]
  },
  {
   "cell_type": "code",
   "execution_count": 18,
   "id": "e3621e18",
   "metadata": {},
   "outputs": [],
   "source": [
    "def choose_home_folder():\n",
    "    root = tk.Tk()\n",
    "    root.withdraw()  # Hide the main window\n",
    "\n",
    "    file_path = filedialog.askdirectory(initialdir= \"/\", title='Please select a directory')  # Open file dialog\n",
    "\n",
    "    root.destroy()  # Close the tkinter window\n",
    "    return file_path\n",
    "\n",
    "\n",
    "def getCellMask(cellNumber, labeldf, maskImageAll):\n",
    "    cellNumber = int(cellNumber.split('_')[-1])\n",
    "    labeldf[labeldf['label']==cellNumber]\n",
    "    x00 = int(np.round(np.array(labeldf[labeldf['label']==cellNumber]['x'])[0]))\n",
    "    y00 = int(np.round(np.array(labeldf[labeldf['label']==cellNumber]['y'])[0]))\n",
    "    sizex = mipSequenceCell.shape[1]\n",
    "    sizey = mipSequenceCell.shape[2]\n",
    "    nminr_ = x00 - sizex//2\n",
    "    nmaxr_ = x00 + sizex//2\n",
    "    nminc_ = y00 - sizey//2\n",
    "    nmaxc_ = y00 + sizey//2\n",
    "\n",
    "    bxt = (nminc_, nmaxc_, nmaxc_, nminc_, nminc_)\n",
    "    byt = (nminr_, nminr_, nmaxr_, nmaxr_, nminr_)\n",
    "\n",
    "    maskCell = maskImageAll[nminr_:nmaxr_,nminc_:nmaxc_]==maskImageAll[x00, y00]\n",
    "    maskCell = stack.dilation_filter(maskCell, kernel_shape='disk', kernel_size=3)\n",
    "    return maskCell\n",
    "\n",
    "def removeSpots(old_spots_list, maskCell):\n",
    "    new_spots_list = []\n",
    "    for i in range(len(old_spots_list)):\n",
    "        new_spots_list\n",
    "        mask_in = maskCell[old_spots_list[i][:, 1], old_spots_list[i][:, 2]]\n",
    "        newSpots = np.array(pd.DataFrame(old_spots_list[i])[mask_in]) \n",
    "        new_spots_list.append(newSpots)\n",
    "        if len(new_spots_list) == len(old_spots_list):\n",
    "            print('all good')\n",
    "    return new_spots_list\n",
    "\n"
   ]
  },
  {
   "cell_type": "code",
   "execution_count": 19,
   "id": "4d2009b6",
   "metadata": {},
   "outputs": [],
   "source": [
    "df = pd.DataFrame(columns=['imsq','cell_number','threshold','spots_found','max_intensity','no.frames','referenceSpot_Alpha','referenceSpot_gamma','beta','gamma','numberSpotmin'])"
   ]
  },
  {
   "cell_type": "code",
   "execution_count": 20,
   "id": "0828b16d",
   "metadata": {},
   "outputs": [],
   "source": [
    "midentifier = 'cell_'\n",
    "fidentifier = 'basal'"
   ]
  },
  {
   "cell_type": "code",
   "execution_count": 21,
   "id": "0ddbb96f",
   "metadata": {},
   "outputs": [
    {
     "name": "stdout",
     "output_type": "stream",
     "text": [
      "Chosen home folder: C:/Users/uid-1204/Desktop/test2_bigFISHLIVE\n"
     ]
    },
    {
     "data": {
      "text/plain": [
       "['C:/Users/uid-1204/Desktop/test2_bigFISHLIVE/Hela_h9_h2_k11_mcpsg_1hrbasal_14hr_TNF_TSA_exp2_2_F06']"
      ]
     },
     "execution_count": 21,
     "metadata": {},
     "output_type": "execute_result"
    }
   ],
   "source": [
    "\n",
    "baseFolder0 = choose_home_folder()#homeFolder+nameKey+imsQ\n",
    "print(\"Chosen home folder:\", baseFolder0) # folder containg folder of movies\n",
    "basefolders = [os.path.join(baseFolder0+'/'+i) for i in os.listdir(baseFolder0) if fidentifier in i and os.path.isdir(os.path.join(baseFolder0,i))]\n",
    "basefolders.sort()\n",
    "basefolders"
   ]
  },
  {
   "cell_type": "markdown",
   "id": "ef74aefd",
   "metadata": {},
   "source": [
    "## Specify Input and Output folders, identifiers"
   ]
  },
  {
   "cell_type": "code",
   "execution_count": 23,
   "id": "779b3ec8",
   "metadata": {
    "scrolled": true
   },
   "outputs": [
    {
     "name": "stdout",
     "output_type": "stream",
     "text": [
      "0\n",
      "cell number : cell_1\n",
      "selected threshold :  600.0\n",
      "path_in/out: C:/Users/uid-1204/Desktop/test2_bigFISHLIVE/Hela_h9_h2_k11_mcpsg_1hrbasal_14hr_TNF_TSA_exp2_2_F06\\cell_1\n",
      "Total number of images : 166\n",
      "image list found!\n",
      "Found 865\n",
      "Found 865 spots, max intensity = 2717\n"
     ]
    },
    {
     "name": "stderr",
     "output_type": "stream",
     "text": [
      "C:\\Users\\uid-1204\\AppData\\Local\\anaconda3\\envs\\bigfishLive\\lib\\site-packages\\bigfish\\detection\\spot_detection.py:586: RuntimeWarning: divide by zero encountered in log\n",
      "  count_spots = np.log([np.count_nonzero(value_spots > t)\n",
      "C:\\Users\\uid-1204\\AppData\\Local\\anaconda3\\envs\\bigfishLive\\lib\\site-packages\\bigfish\\detection\\spot_detection.py:586: RuntimeWarning: divide by zero encountered in log\n",
      "  count_spots = np.log([np.count_nonzero(value_spots > t)\n",
      "C:\\Users\\uid-1204\\AppData\\Local\\anaconda3\\envs\\bigfishLive\\lib\\site-packages\\bigfish\\detection\\spot_detection.py:586: RuntimeWarning: divide by zero encountered in log\n",
      "  count_spots = np.log([np.count_nonzero(value_spots > t)\n",
      "C:\\Users\\uid-1204\\AppData\\Local\\anaconda3\\envs\\bigfishLive\\lib\\site-packages\\bigfish\\detection\\spot_detection.py:586: RuntimeWarning: divide by zero encountered in log\n",
      "  count_spots = np.log([np.count_nonzero(value_spots > t)\n",
      "C:\\Users\\uid-1204\\AppData\\Local\\anaconda3\\envs\\bigfishLive\\lib\\site-packages\\bigfish\\detection\\spot_detection.py:586: RuntimeWarning: divide by zero encountered in log\n",
      "  count_spots = np.log([np.count_nonzero(value_spots > t)\n"
     ]
    },
    {
     "name": "stdout",
     "output_type": "stream",
     "text": [
      "done!\n",
      "1\n",
      "cell number : cell_10\n",
      "selected threshold :  0.0\n",
      "path_in/out: C:/Users/uid-1204/Desktop/test2_bigFISHLIVE/Hela_h9_h2_k11_mcpsg_1hrbasal_14hr_TNF_TSA_exp2_2_F06\\cell_10\n",
      "2\n",
      "cell number : cell_11\n",
      "selected threshold :  0.0\n",
      "path_in/out: C:/Users/uid-1204/Desktop/test2_bigFISHLIVE/Hela_h9_h2_k11_mcpsg_1hrbasal_14hr_TNF_TSA_exp2_2_F06\\cell_11\n",
      "3\n",
      "cell number : cell_12\n",
      "selected threshold :  600.0\n",
      "path_in/out: C:/Users/uid-1204/Desktop/test2_bigFISHLIVE/Hela_h9_h2_k11_mcpsg_1hrbasal_14hr_TNF_TSA_exp2_2_F06\\cell_12\n"
     ]
    },
    {
     "name": "stderr",
     "output_type": "stream",
     "text": [
      "C:\\Users\\uid-1204\\AppData\\Local\\anaconda3\\envs\\bigfishLive\\lib\\site-packages\\bigfish\\detection\\spot_detection.py:586: RuntimeWarning: divide by zero encountered in log\n",
      "  count_spots = np.log([np.count_nonzero(value_spots > t)\n"
     ]
    },
    {
     "name": "stdout",
     "output_type": "stream",
     "text": [
      "Total number of images : 180\n",
      "image list found!\n",
      "Found 11344\n",
      "Found 11344 spots, max intensity = 2942\n"
     ]
    },
    {
     "name": "stderr",
     "output_type": "stream",
     "text": [
      "C:\\Users\\uid-1204\\AppData\\Local\\anaconda3\\envs\\bigfishLive\\lib\\site-packages\\bigfish\\detection\\spot_detection.py:586: RuntimeWarning: divide by zero encountered in log\n",
      "  count_spots = np.log([np.count_nonzero(value_spots > t)\n",
      "C:\\Users\\uid-1204\\AppData\\Local\\anaconda3\\envs\\bigfishLive\\lib\\site-packages\\bigfish\\detection\\spot_detection.py:586: RuntimeWarning: divide by zero encountered in log\n",
      "  count_spots = np.log([np.count_nonzero(value_spots > t)\n"
     ]
    },
    {
     "name": "stdout",
     "output_type": "stream",
     "text": [
      "done!\n",
      "4\n",
      "cell number : cell_13\n",
      "selected threshold :  0.0\n",
      "path_in/out: C:/Users/uid-1204/Desktop/test2_bigFISHLIVE/Hela_h9_h2_k11_mcpsg_1hrbasal_14hr_TNF_TSA_exp2_2_F06\\cell_13\n",
      "5\n",
      "cell number : cell_14\n",
      "selected threshold :  620.0\n",
      "path_in/out: C:/Users/uid-1204/Desktop/test2_bigFISHLIVE/Hela_h9_h2_k11_mcpsg_1hrbasal_14hr_TNF_TSA_exp2_2_F06\\cell_14\n",
      "Total number of images : 180\n",
      "image list found!\n",
      "Found 4938\n",
      "Found 4938 spots, max intensity = 2836\n"
     ]
    },
    {
     "name": "stderr",
     "output_type": "stream",
     "text": [
      "C:\\Users\\uid-1204\\AppData\\Local\\anaconda3\\envs\\bigfishLive\\lib\\site-packages\\bigfish\\detection\\spot_detection.py:586: RuntimeWarning: divide by zero encountered in log\n",
      "  count_spots = np.log([np.count_nonzero(value_spots > t)\n",
      "C:\\Users\\uid-1204\\AppData\\Local\\anaconda3\\envs\\bigfishLive\\lib\\site-packages\\bigfish\\detection\\spot_detection.py:586: RuntimeWarning: divide by zero encountered in log\n",
      "  count_spots = np.log([np.count_nonzero(value_spots > t)\n"
     ]
    },
    {
     "name": "stdout",
     "output_type": "stream",
     "text": [
      "done!\n",
      "6\n",
      "cell number : cell_16\n",
      "selected threshold :  598.0\n",
      "path_in/out: C:/Users/uid-1204/Desktop/test2_bigFISHLIVE/Hela_h9_h2_k11_mcpsg_1hrbasal_14hr_TNF_TSA_exp2_2_F06\\cell_16\n"
     ]
    },
    {
     "name": "stderr",
     "output_type": "stream",
     "text": [
      "C:\\Users\\uid-1204\\AppData\\Local\\anaconda3\\envs\\bigfishLive\\lib\\site-packages\\bigfish\\detection\\spot_detection.py:586: RuntimeWarning: divide by zero encountered in log\n",
      "  count_spots = np.log([np.count_nonzero(value_spots > t)\n"
     ]
    },
    {
     "name": "stdout",
     "output_type": "stream",
     "text": [
      "Total number of images : 180\n",
      "image list found!\n",
      "Found 24178\n",
      "Found 24178 spots, max intensity = 4200\n"
     ]
    },
    {
     "name": "stderr",
     "output_type": "stream",
     "text": [
      "C:\\Users\\uid-1204\\AppData\\Local\\anaconda3\\envs\\bigfishLive\\lib\\site-packages\\bigfish\\detection\\spot_detection.py:586: RuntimeWarning: divide by zero encountered in log\n",
      "  count_spots = np.log([np.count_nonzero(value_spots > t)\n",
      "C:\\Users\\uid-1204\\AppData\\Local\\anaconda3\\envs\\bigfishLive\\lib\\site-packages\\bigfish\\detection\\spot_detection.py:586: RuntimeWarning: divide by zero encountered in log\n",
      "  count_spots = np.log([np.count_nonzero(value_spots > t)\n"
     ]
    },
    {
     "name": "stdout",
     "output_type": "stream",
     "text": [
      "done!\n",
      "7\n",
      "cell number : cell_17\n",
      "selected threshold :  0.0\n",
      "path_in/out: C:/Users/uid-1204/Desktop/test2_bigFISHLIVE/Hela_h9_h2_k11_mcpsg_1hrbasal_14hr_TNF_TSA_exp2_2_F06\\cell_17\n",
      "8\n",
      "cell number : cell_18\n",
      "selected threshold :  598.0\n",
      "path_in/out: C:/Users/uid-1204/Desktop/test2_bigFISHLIVE/Hela_h9_h2_k11_mcpsg_1hrbasal_14hr_TNF_TSA_exp2_2_F06\\cell_18\n"
     ]
    },
    {
     "name": "stderr",
     "output_type": "stream",
     "text": [
      "C:\\Users\\uid-1204\\AppData\\Local\\anaconda3\\envs\\bigfishLive\\lib\\site-packages\\bigfish\\detection\\spot_detection.py:586: RuntimeWarning: divide by zero encountered in log\n",
      "  count_spots = np.log([np.count_nonzero(value_spots > t)\n"
     ]
    },
    {
     "name": "stdout",
     "output_type": "stream",
     "text": [
      "Total number of images : 180\n",
      "image list found!\n",
      "Found 14439\n",
      "Found 14439 spots, max intensity = 4862\n"
     ]
    },
    {
     "name": "stderr",
     "output_type": "stream",
     "text": [
      "C:\\Users\\uid-1204\\AppData\\Local\\anaconda3\\envs\\bigfishLive\\lib\\site-packages\\bigfish\\detection\\spot_detection.py:586: RuntimeWarning: divide by zero encountered in log\n",
      "  count_spots = np.log([np.count_nonzero(value_spots > t)\n",
      "C:\\Users\\uid-1204\\AppData\\Local\\anaconda3\\envs\\bigfishLive\\lib\\site-packages\\bigfish\\detection\\spot_detection.py:586: RuntimeWarning: divide by zero encountered in log\n",
      "  count_spots = np.log([np.count_nonzero(value_spots > t)\n",
      "C:\\Users\\uid-1204\\AppData\\Local\\anaconda3\\envs\\bigfishLive\\lib\\site-packages\\bigfish\\detection\\spot_detection.py:586: RuntimeWarning: divide by zero encountered in log\n",
      "  count_spots = np.log([np.count_nonzero(value_spots > t)\n",
      "C:\\Users\\uid-1204\\AppData\\Local\\anaconda3\\envs\\bigfishLive\\lib\\site-packages\\bigfish\\detection\\spot_detection.py:586: RuntimeWarning: divide by zero encountered in log\n",
      "  count_spots = np.log([np.count_nonzero(value_spots > t)\n"
     ]
    },
    {
     "name": "stdout",
     "output_type": "stream",
     "text": [
      "done!\n",
      "9\n",
      "cell number : cell_2\n",
      "selected threshold :  830.0\n",
      "path_in/out: C:/Users/uid-1204/Desktop/test2_bigFISHLIVE/Hela_h9_h2_k11_mcpsg_1hrbasal_14hr_TNF_TSA_exp2_2_F06\\cell_2\n",
      "Total number of images : 180\n",
      "image list found!\n",
      "Found 2909\n",
      "Found 2909 spots, max intensity = 3886\n"
     ]
    },
    {
     "name": "stderr",
     "output_type": "stream",
     "text": [
      "C:\\Users\\uid-1204\\AppData\\Local\\anaconda3\\envs\\bigfishLive\\lib\\site-packages\\bigfish\\detection\\spot_detection.py:586: RuntimeWarning: divide by zero encountered in log\n",
      "  count_spots = np.log([np.count_nonzero(value_spots > t)\n",
      "C:\\Users\\uid-1204\\AppData\\Local\\anaconda3\\envs\\bigfishLive\\lib\\site-packages\\bigfish\\detection\\spot_detection.py:586: RuntimeWarning: divide by zero encountered in log\n",
      "  count_spots = np.log([np.count_nonzero(value_spots > t)\n"
     ]
    },
    {
     "name": "stdout",
     "output_type": "stream",
     "text": [
      "done!\n",
      "10\n",
      "cell number : cell_3\n",
      "selected threshold :  480.0\n",
      "path_in/out: C:/Users/uid-1204/Desktop/test2_bigFISHLIVE/Hela_h9_h2_k11_mcpsg_1hrbasal_14hr_TNF_TSA_exp2_2_F06\\cell_3\n"
     ]
    },
    {
     "name": "stderr",
     "output_type": "stream",
     "text": [
      "C:\\Users\\uid-1204\\AppData\\Local\\anaconda3\\envs\\bigfishLive\\lib\\site-packages\\bigfish\\detection\\spot_detection.py:586: RuntimeWarning: divide by zero encountered in log\n",
      "  count_spots = np.log([np.count_nonzero(value_spots > t)\n"
     ]
    },
    {
     "name": "stdout",
     "output_type": "stream",
     "text": [
      "Total number of images : 180\n",
      "image list found!\n",
      "Found 1439\n",
      "Found 1439 spots, max intensity = 1951\n"
     ]
    },
    {
     "name": "stderr",
     "output_type": "stream",
     "text": [
      "C:\\Users\\uid-1204\\AppData\\Local\\anaconda3\\envs\\bigfishLive\\lib\\site-packages\\bigfish\\detection\\spot_detection.py:586: RuntimeWarning: divide by zero encountered in log\n",
      "  count_spots = np.log([np.count_nonzero(value_spots > t)\n",
      "C:\\Users\\uid-1204\\AppData\\Local\\anaconda3\\envs\\bigfishLive\\lib\\site-packages\\bigfish\\detection\\spot_detection.py:586: RuntimeWarning: divide by zero encountered in log\n",
      "  count_spots = np.log([np.count_nonzero(value_spots > t)\n",
      "C:\\Users\\uid-1204\\AppData\\Local\\anaconda3\\envs\\bigfishLive\\lib\\site-packages\\bigfish\\detection\\spot_detection.py:586: RuntimeWarning: divide by zero encountered in log\n",
      "  count_spots = np.log([np.count_nonzero(value_spots > t)\n",
      "C:\\Users\\uid-1204\\AppData\\Local\\anaconda3\\envs\\bigfishLive\\lib\\site-packages\\bigfish\\detection\\spot_detection.py:586: RuntimeWarning: divide by zero encountered in log\n",
      "  count_spots = np.log([np.count_nonzero(value_spots > t)\n"
     ]
    },
    {
     "name": "stdout",
     "output_type": "stream",
     "text": [
      "done!\n",
      "11\n",
      "cell number : cell_4\n",
      "selected threshold :  708.0\n",
      "path_in/out: C:/Users/uid-1204/Desktop/test2_bigFISHLIVE/Hela_h9_h2_k11_mcpsg_1hrbasal_14hr_TNF_TSA_exp2_2_F06\\cell_4\n",
      "Total number of images : 180\n",
      "image list found!\n",
      "Found 24560\n",
      "Found 24560 spots, max intensity = 5812\n",
      "done!\n",
      "12\n",
      "cell number : cell_5\n",
      "selected threshold :  680.0\n",
      "path_in/out: C:/Users/uid-1204/Desktop/test2_bigFISHLIVE/Hela_h9_h2_k11_mcpsg_1hrbasal_14hr_TNF_TSA_exp2_2_F06\\cell_5\n",
      "Total number of images : 180\n",
      "image list found!\n",
      "Found 1470\n",
      "Found 1470 spots, max intensity = 3127\n"
     ]
    },
    {
     "name": "stderr",
     "output_type": "stream",
     "text": [
      "C:\\Users\\uid-1204\\AppData\\Local\\anaconda3\\envs\\bigfishLive\\lib\\site-packages\\bigfish\\detection\\spot_detection.py:586: RuntimeWarning: divide by zero encountered in log\n",
      "  count_spots = np.log([np.count_nonzero(value_spots > t)\n",
      "C:\\Users\\uid-1204\\AppData\\Local\\anaconda3\\envs\\bigfishLive\\lib\\site-packages\\bigfish\\detection\\spot_detection.py:586: RuntimeWarning: divide by zero encountered in log\n",
      "  count_spots = np.log([np.count_nonzero(value_spots > t)\n",
      "C:\\Users\\uid-1204\\AppData\\Local\\anaconda3\\envs\\bigfishLive\\lib\\site-packages\\bigfish\\detection\\spot_detection.py:586: RuntimeWarning: divide by zero encountered in log\n",
      "  count_spots = np.log([np.count_nonzero(value_spots > t)\n",
      "C:\\Users\\uid-1204\\AppData\\Local\\anaconda3\\envs\\bigfishLive\\lib\\site-packages\\bigfish\\detection\\spot_detection.py:586: RuntimeWarning: divide by zero encountered in log\n",
      "  count_spots = np.log([np.count_nonzero(value_spots > t)\n",
      "C:\\Users\\uid-1204\\AppData\\Local\\anaconda3\\envs\\bigfishLive\\lib\\site-packages\\bigfish\\detection\\spot_detection.py:586: RuntimeWarning: divide by zero encountered in log\n",
      "  count_spots = np.log([np.count_nonzero(value_spots > t)\n"
     ]
    },
    {
     "name": "stdout",
     "output_type": "stream",
     "text": [
      "done!\n",
      "13\n",
      "cell number : cell_6\n",
      "selected threshold :  0.0\n",
      "path_in/out: C:/Users/uid-1204/Desktop/test2_bigFISHLIVE/Hela_h9_h2_k11_mcpsg_1hrbasal_14hr_TNF_TSA_exp2_2_F06\\cell_6\n",
      "14\n",
      "cell number : cell_7\n",
      "selected threshold :  0.0\n",
      "path_in/out: C:/Users/uid-1204/Desktop/test2_bigFISHLIVE/Hela_h9_h2_k11_mcpsg_1hrbasal_14hr_TNF_TSA_exp2_2_F06\\cell_7\n",
      "15\n",
      "cell number : cell_8\n",
      "selected threshold :  700.0\n",
      "path_in/out: C:/Users/uid-1204/Desktop/test2_bigFISHLIVE/Hela_h9_h2_k11_mcpsg_1hrbasal_14hr_TNF_TSA_exp2_2_F06\\cell_8\n",
      "Total number of images : 180\n",
      "image list found!\n",
      "Found 22674\n",
      "Found 22674 spots, max intensity = 5698\n"
     ]
    },
    {
     "name": "stderr",
     "output_type": "stream",
     "text": [
      "C:\\Users\\uid-1204\\AppData\\Local\\anaconda3\\envs\\bigfishLive\\lib\\site-packages\\bigfish\\detection\\spot_detection.py:586: RuntimeWarning: divide by zero encountered in log\n",
      "  count_spots = np.log([np.count_nonzero(value_spots > t)\n"
     ]
    },
    {
     "name": "stdout",
     "output_type": "stream",
     "text": [
      "done!\n",
      "16\n",
      "cell number : cell_9\n",
      "selected threshold :  550.0\n",
      "path_in/out: C:/Users/uid-1204/Desktop/test2_bigFISHLIVE/Hela_h9_h2_k11_mcpsg_1hrbasal_14hr_TNF_TSA_exp2_2_F06\\cell_9\n",
      "Total number of images : 180\n",
      "image list found!\n",
      "Found 16552\n",
      "Found 16552 spots, max intensity = 2762\n"
     ]
    },
    {
     "name": "stderr",
     "output_type": "stream",
     "text": [
      "C:\\Users\\uid-1204\\AppData\\Local\\anaconda3\\envs\\bigfishLive\\lib\\site-packages\\bigfish\\detection\\spot_detection.py:586: RuntimeWarning: divide by zero encountered in log\n",
      "  count_spots = np.log([np.count_nonzero(value_spots > t)\n",
      "C:\\Users\\uid-1204\\AppData\\Local\\anaconda3\\envs\\bigfishLive\\lib\\site-packages\\bigfish\\detection\\spot_detection.py:586: RuntimeWarning: divide by zero encountered in log\n",
      "  count_spots = np.log([np.count_nonzero(value_spots > t)\n",
      "C:\\Users\\uid-1204\\AppData\\Local\\anaconda3\\envs\\bigfishLive\\lib\\site-packages\\bigfish\\detection\\spot_detection.py:586: RuntimeWarning: divide by zero encountered in log\n",
      "  count_spots = np.log([np.count_nonzero(value_spots > t)\n",
      "C:\\Users\\uid-1204\\AppData\\Local\\anaconda3\\envs\\bigfishLive\\lib\\site-packages\\bigfish\\detection\\spot_detection.py:586: RuntimeWarning: divide by zero encountered in log\n",
      "  count_spots = np.log([np.count_nonzero(value_spots > t)\n"
     ]
    },
    {
     "name": "stdout",
     "output_type": "stream",
     "text": [
      "done!\n"
     ]
    }
   ],
   "source": [
    "# homeFolder = '/media/rachel/9d56c1ff-e031-4e35-9f3c-fcd7d3e80033/Analysis/20230720/'\n",
    "referenceSpot_Alpha=0.6\n",
    "referenceSpot_gamma=3\n",
    "bEta=1\n",
    "gAmma=3\n",
    "numberSpotmin=2\n",
    "reorderStack = False\n",
    "opbCorrection = False\n",
    "\n",
    "for baseFolder in basefolders[:]:\n",
    "    nameKey = Path(baseFolder).name\n",
    "\n",
    "    imsQ = nameKey.split('_F')[-1]\n",
    "    thresholdFile = pd.read_csv(os.path.join(baseFolder,'thresholds.csv'), index_col=0)\n",
    "\n",
    "    for fieldNumber in range(len(thresholdFile)): #[np.where(thresholdFile['cell']=='cell_'+str(cellNumber))[0][0]]:#\n",
    "        print(fieldNumber)\n",
    "        print('cell number :', thresholdFile['cell'][fieldNumber])\n",
    "        cellNumber = thresholdFile['cell'][fieldNumber]\n",
    "        path_input = os.path.join(baseFolder,cellNumber)\n",
    "        pathToTimeFramesCell = os.path.join(path_input,'*.tif')\n",
    "\n",
    "        sequenceCell = imr(pathToTimeFramesCell)\n",
    "        mipSequenceCell = np.max(sequenceCell, axis=1)\n",
    "        MaxTimePoint = sequenceCell.shape[0]\n",
    "        selectedThreshold = float(thresholdFile['threshold'][fieldNumber])\n",
    "        print('selected threshold : ', selectedThreshold)\n",
    "        print('path_in/out:', path_input)\n",
    "\n",
    "        labeldf = pd.read_pickle(os.path.join(baseFolder,'LabelDF.pkl'))\n",
    "        tProj = np.max(mipSequenceCell, axis=0)\n",
    "        maskpath = os.path.join(Path(baseFolder).parent, 'tProjections','T_MAX_'+Path(baseFolder).name.replace('.','_')+'_cp_masks.png')\n",
    "        maskImageAll = imread(maskpath)\n",
    "        maskCell = getCellMask(cellNumber, labeldf, maskImageAll)\n",
    "\n",
    "        if selectedThreshold!=0:\n",
    "            if opbCorrection==True:\n",
    "                sequenceCellInput, r_bi, I_mean = getBleachCorrected(sequenceCell, model='bi')\n",
    "            else:\n",
    "                sequenceCellInput = sequenceCell\n",
    "            ## Get a list of spots detected using the threshold specified in previous step\n",
    "            images, spots_list, no_frames = getImagesAndSpotList(sequenceCellInput, \n",
    "                                                                 selectedThreshold, \n",
    "                                                                 voxelRadius, \n",
    "                                                                 objectRadius, sampling=5)\n",
    "            \n",
    "#             ## Remove unwanted spots\n",
    "#             try:\n",
    "#                 spots_list = removeSpots(spots_list, maskCell)\n",
    "#             except IndexError:\n",
    "#                 pass\n",
    "#             try:\n",
    "#                 plt.figure()\n",
    "#                 plt.imshow(tProj)\n",
    "#                 plt.imshow(maskCell, alpha=0.2)\n",
    "#             except ValueError:\n",
    "#                 pass\n",
    "#     #             plt.figure()\n",
    "#     #             plt.imshow(mipSequenceCell[0])\n",
    "#     #             plt.imshow(maskCell, alpha=0.2)\n",
    "            \n",
    "            ## Build reference spot\n",
    "            try:\n",
    "                reference_spot, spots_found, max_intensity = buildReferenceSpotFromImages(images, spots_list, \n",
    "                                                                                      alpha=referenceSpot_Alpha, \n",
    "                                                                                      gamma=referenceSpot_gamma, voxelSize=voxelRadius, \n",
    "                                                                                          objectSize=objectRadius)\n",
    "                refSpot = deepcopy(reference_spot)\n",
    "\n",
    "                ## Perform spot and cluster detection for all frames\n",
    "                spotsFrame, clustersFrames, ThresholdFrames = getSpotAndClusters(sequenceCell, \n",
    "                                                                             reference_spot, \n",
    "                                                                             cellnumber=cellNumber, \n",
    "                                                                             startTime=0,\n",
    "                                                                             stopTime=MaxTimePoint, \n",
    "                                                                             thresholdManual=selectedThreshold, \n",
    "                                                                             beta=bEta, \n",
    "                                                                             gamma=gAmma,\n",
    "                                                                             numberOfSpots=numberSpotmin,\n",
    "                                                                             radiusCluster=400, \n",
    "                                                                             voxelSize=voxelRadius, \n",
    "                                                                             objectSize=objectRadius,\n",
    "                                                                             reorder=reorderStack,\n",
    "                                                                             extensionMov='.tif',\n",
    "                                                                             showProgress=False)\n",
    "\n",
    "                ## Save spots clusters and reference spot\n",
    "                saveSpotsNPZ(np.array(spotsFrame, dtype=object), \n",
    "                             np.array(clustersFrames, dtype=object), \n",
    "                             np.array(ThresholdFrames, dtype=object), \n",
    "                             cellNumber, \n",
    "                             path_input, \n",
    "                             reference_spot,\n",
    "                             threshold = selectedThreshold,\n",
    "                             outputstring = '_spots_and_clusters_27_May'+str(referenceSpot_Alpha))\n",
    "\n",
    "                df2 = pd.DataFrame(np.array([imsQ,cellNumber,selectedThreshold,\n",
    "                                             spots_found,max_intensity,no_frames,referenceSpot_Alpha,\n",
    "                                             referenceSpot_gamma,bEta,gAmma,numberSpotmin]).reshape(1,11), columns=['imsq','cell_number','threshold','spots_found','max_intensity','no.frames','referenceSpot_Alpha','referenceSpot_gamma','beta','gamma','numberSpotmin'])\n",
    "                df = pd.concat([df,df2])\n",
    "#             df = df.sort_values(by=['Movie_Name']) \n",
    "            except ValueError:\n",
    "                pass"
   ]
  },
  {
   "cell_type": "code",
   "execution_count": 24,
   "id": "ae5f4287",
   "metadata": {},
   "outputs": [],
   "source": [
    "# df = df.sort_values(by=['Movie_Name'])\n",
    "df.to_csv(baseFolder0+'/spots&ClustersSummary_27_May_2025.csv') "
   ]
  },
  {
   "cell_type": "code",
   "execution_count": 25,
   "id": "069ba5c5",
   "metadata": {},
   "outputs": [
    {
     "data": {
      "text/html": [
       "<div>\n",
       "<style scoped>\n",
       "    .dataframe tbody tr th:only-of-type {\n",
       "        vertical-align: middle;\n",
       "    }\n",
       "\n",
       "    .dataframe tbody tr th {\n",
       "        vertical-align: top;\n",
       "    }\n",
       "\n",
       "    .dataframe thead th {\n",
       "        text-align: right;\n",
       "    }\n",
       "</style>\n",
       "<table border=\"1\" class=\"dataframe\">\n",
       "  <thead>\n",
       "    <tr style=\"text-align: right;\">\n",
       "      <th></th>\n",
       "      <th>imsq</th>\n",
       "      <th>cell_number</th>\n",
       "      <th>threshold</th>\n",
       "      <th>spots_found</th>\n",
       "      <th>max_intensity</th>\n",
       "      <th>no.frames</th>\n",
       "      <th>referenceSpot_Alpha</th>\n",
       "      <th>referenceSpot_gamma</th>\n",
       "      <th>beta</th>\n",
       "      <th>gamma</th>\n",
       "      <th>numberSpotmin</th>\n",
       "    </tr>\n",
       "  </thead>\n",
       "  <tbody>\n",
       "    <tr>\n",
       "      <th>0</th>\n",
       "      <td>06</td>\n",
       "      <td>cell_1</td>\n",
       "      <td>600.0</td>\n",
       "      <td>865</td>\n",
       "      <td>2717</td>\n",
       "      <td>166</td>\n",
       "      <td>0.6</td>\n",
       "      <td>3</td>\n",
       "      <td>1</td>\n",
       "      <td>3</td>\n",
       "      <td>2</td>\n",
       "    </tr>\n",
       "    <tr>\n",
       "      <th>0</th>\n",
       "      <td>06</td>\n",
       "      <td>cell_12</td>\n",
       "      <td>600.0</td>\n",
       "      <td>11344</td>\n",
       "      <td>2942</td>\n",
       "      <td>180</td>\n",
       "      <td>0.6</td>\n",
       "      <td>3</td>\n",
       "      <td>1</td>\n",
       "      <td>3</td>\n",
       "      <td>2</td>\n",
       "    </tr>\n",
       "    <tr>\n",
       "      <th>0</th>\n",
       "      <td>06</td>\n",
       "      <td>cell_14</td>\n",
       "      <td>620.0</td>\n",
       "      <td>4938</td>\n",
       "      <td>2836</td>\n",
       "      <td>180</td>\n",
       "      <td>0.6</td>\n",
       "      <td>3</td>\n",
       "      <td>1</td>\n",
       "      <td>3</td>\n",
       "      <td>2</td>\n",
       "    </tr>\n",
       "    <tr>\n",
       "      <th>0</th>\n",
       "      <td>06</td>\n",
       "      <td>cell_16</td>\n",
       "      <td>598.0</td>\n",
       "      <td>24178</td>\n",
       "      <td>4200</td>\n",
       "      <td>180</td>\n",
       "      <td>0.6</td>\n",
       "      <td>3</td>\n",
       "      <td>1</td>\n",
       "      <td>3</td>\n",
       "      <td>2</td>\n",
       "    </tr>\n",
       "    <tr>\n",
       "      <th>0</th>\n",
       "      <td>06</td>\n",
       "      <td>cell_18</td>\n",
       "      <td>598.0</td>\n",
       "      <td>14439</td>\n",
       "      <td>4862</td>\n",
       "      <td>180</td>\n",
       "      <td>0.6</td>\n",
       "      <td>3</td>\n",
       "      <td>1</td>\n",
       "      <td>3</td>\n",
       "      <td>2</td>\n",
       "    </tr>\n",
       "    <tr>\n",
       "      <th>0</th>\n",
       "      <td>06</td>\n",
       "      <td>cell_2</td>\n",
       "      <td>830.0</td>\n",
       "      <td>2909</td>\n",
       "      <td>3886</td>\n",
       "      <td>180</td>\n",
       "      <td>0.6</td>\n",
       "      <td>3</td>\n",
       "      <td>1</td>\n",
       "      <td>3</td>\n",
       "      <td>2</td>\n",
       "    </tr>\n",
       "    <tr>\n",
       "      <th>0</th>\n",
       "      <td>06</td>\n",
       "      <td>cell_3</td>\n",
       "      <td>480.0</td>\n",
       "      <td>1439</td>\n",
       "      <td>1951</td>\n",
       "      <td>180</td>\n",
       "      <td>0.6</td>\n",
       "      <td>3</td>\n",
       "      <td>1</td>\n",
       "      <td>3</td>\n",
       "      <td>2</td>\n",
       "    </tr>\n",
       "    <tr>\n",
       "      <th>0</th>\n",
       "      <td>06</td>\n",
       "      <td>cell_4</td>\n",
       "      <td>708.0</td>\n",
       "      <td>24560</td>\n",
       "      <td>5812</td>\n",
       "      <td>180</td>\n",
       "      <td>0.6</td>\n",
       "      <td>3</td>\n",
       "      <td>1</td>\n",
       "      <td>3</td>\n",
       "      <td>2</td>\n",
       "    </tr>\n",
       "    <tr>\n",
       "      <th>0</th>\n",
       "      <td>06</td>\n",
       "      <td>cell_5</td>\n",
       "      <td>680.0</td>\n",
       "      <td>1470</td>\n",
       "      <td>3127</td>\n",
       "      <td>180</td>\n",
       "      <td>0.6</td>\n",
       "      <td>3</td>\n",
       "      <td>1</td>\n",
       "      <td>3</td>\n",
       "      <td>2</td>\n",
       "    </tr>\n",
       "    <tr>\n",
       "      <th>0</th>\n",
       "      <td>06</td>\n",
       "      <td>cell_8</td>\n",
       "      <td>700.0</td>\n",
       "      <td>22674</td>\n",
       "      <td>5698</td>\n",
       "      <td>180</td>\n",
       "      <td>0.6</td>\n",
       "      <td>3</td>\n",
       "      <td>1</td>\n",
       "      <td>3</td>\n",
       "      <td>2</td>\n",
       "    </tr>\n",
       "    <tr>\n",
       "      <th>0</th>\n",
       "      <td>06</td>\n",
       "      <td>cell_9</td>\n",
       "      <td>550.0</td>\n",
       "      <td>16552</td>\n",
       "      <td>2762</td>\n",
       "      <td>180</td>\n",
       "      <td>0.6</td>\n",
       "      <td>3</td>\n",
       "      <td>1</td>\n",
       "      <td>3</td>\n",
       "      <td>2</td>\n",
       "    </tr>\n",
       "  </tbody>\n",
       "</table>\n",
       "</div>"
      ],
      "text/plain": [
       "  imsq cell_number threshold spots_found max_intensity no.frames  \\\n",
       "0   06      cell_1     600.0         865          2717       166   \n",
       "0   06     cell_12     600.0       11344          2942       180   \n",
       "0   06     cell_14     620.0        4938          2836       180   \n",
       "0   06     cell_16     598.0       24178          4200       180   \n",
       "0   06     cell_18     598.0       14439          4862       180   \n",
       "0   06      cell_2     830.0        2909          3886       180   \n",
       "0   06      cell_3     480.0        1439          1951       180   \n",
       "0   06      cell_4     708.0       24560          5812       180   \n",
       "0   06      cell_5     680.0        1470          3127       180   \n",
       "0   06      cell_8     700.0       22674          5698       180   \n",
       "0   06      cell_9     550.0       16552          2762       180   \n",
       "\n",
       "  referenceSpot_Alpha referenceSpot_gamma beta gamma numberSpotmin  \n",
       "0                 0.6                   3    1     3             2  \n",
       "0                 0.6                   3    1     3             2  \n",
       "0                 0.6                   3    1     3             2  \n",
       "0                 0.6                   3    1     3             2  \n",
       "0                 0.6                   3    1     3             2  \n",
       "0                 0.6                   3    1     3             2  \n",
       "0                 0.6                   3    1     3             2  \n",
       "0                 0.6                   3    1     3             2  \n",
       "0                 0.6                   3    1     3             2  \n",
       "0                 0.6                   3    1     3             2  \n",
       "0                 0.6                   3    1     3             2  "
      ]
     },
     "execution_count": 25,
     "metadata": {},
     "output_type": "execute_result"
    }
   ],
   "source": [
    "df"
   ]
  },
  {
   "cell_type": "code",
   "execution_count": null,
   "id": "e615eff0",
   "metadata": {},
   "outputs": [],
   "source": []
  },
  {
   "cell_type": "code",
   "execution_count": null,
   "id": "ff619a22",
   "metadata": {},
   "outputs": [],
   "source": []
  }
 ],
 "metadata": {
  "kernelspec": {
   "display_name": "Python 3 (ipykernel)",
   "language": "python",
   "name": "python3"
  },
  "language_info": {
   "codemirror_mode": {
    "name": "ipython",
    "version": 3
   },
   "file_extension": ".py",
   "mimetype": "text/x-python",
   "name": "python",
   "nbconvert_exporter": "python",
   "pygments_lexer": "ipython3",
   "version": "3.8.20"
  }
 },
 "nbformat": 4,
 "nbformat_minor": 5
}
